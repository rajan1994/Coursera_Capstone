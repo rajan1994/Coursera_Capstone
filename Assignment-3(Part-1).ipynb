{
 "cells": [
  {
   "cell_type": "markdown",
   "metadata": {},
   "source": [
    "<h1 align=center><font size = 5>Venues/Business Analysis in India</font></h1>"
   ]
  },
  {
   "cell_type": "markdown",
   "metadata": {},
   "source": [
    "#### Introduction"
   ]
  },
  {
   "cell_type": "markdown",
   "metadata": {},
   "source": [
    "This project is about doing a business and strategizing the location and business. Sometimes, it is challenging for the investors to invest the money. this project will do the analysis for them and help in taking better business decisions. "
   ]
  },
  {
   "cell_type": "markdown",
   "metadata": {},
   "source": [
    "#### Introduction/Business Problem"
   ]
  },
  {
   "cell_type": "markdown",
   "metadata": {},
   "source": [
    "Whenever people are thinking about doing a business it is always challenging to work from scratch and find out a location and the type of business. Most of the time they heard from people about the business and location without doing any analysis which i am afraid to say that people used to fail multiple times only because of this reason."
   ]
  },
  {
   "cell_type": "markdown",
   "metadata": {},
   "source": [
    "Nowadays, Investors are looking forward to invest their money in good startups which help both of them to get succeeded but they may take wrong decisions as they don't know the competition in that city or area. This project will give a good insight to all the people who want to explore and study more about the existing businesses along with help them to do analysis first further take any decision."
   ]
  },
  {
   "cell_type": "markdown",
   "metadata": {},
   "source": [
    "It will provide the information about the similar cities in an area to determine the same kind of opportunities in different locations."
   ]
  },
  {
   "cell_type": "markdown",
   "metadata": {},
   "source": [
    "####  Data section"
   ]
  },
  {
   "cell_type": "markdown",
   "metadata": {},
   "source": [
    "For this purpose, this project contains the data of India and based on the requirements it will analysis the state and give the result in the form of DataFrames and maps with proper location. Here, one example of state i.e. Andhra Pradesh has been taken. It will generate all the businesses present in Andhra Pradesh state with city information as well."
   ]
  },
  {
   "cell_type": "markdown",
   "metadata": {},
   "source": [
    "Data will analyse the top 10 venues/businesses which are present in the respective city and classify them using K-Means algorithm to give the better recommendation of the businesses which a person can think about it. It will prove the complete report about the cities and will help to understand the similar cities in terms of business."
   ]
  },
  {
   "cell_type": "markdown",
   "metadata": {},
   "source": [
    "Data is gathered from https://simplemaps.com/data/in-cities which provides the information about the major Cities, States, Population, Latitude and Longitude information.This information will be used to analyse existing business in a particular state and help to determine the scope of more business areas."
   ]
  },
  {
   "cell_type": "markdown",
   "metadata": {},
   "source": [
    "Here, Folium library is used for plotting the maps and FourSquare API is used to get the venues information and extracting the features related to venues.\n",
    "We can explore more on FourSquare API to get the results about the items on a particular venue along with the ratings and comments etc."
   ]
  },
  {
   "cell_type": "code",
   "execution_count": null,
   "metadata": {},
   "outputs": [],
   "source": []
  }
 ],
 "metadata": {
  "kernelspec": {
   "display_name": "Python",
   "language": "python",
   "name": "conda-env-python-py"
  },
  "language_info": {
   "codemirror_mode": {
    "name": "ipython",
    "version": 3
   },
   "file_extension": ".py",
   "mimetype": "text/x-python",
   "name": "python",
   "nbconvert_exporter": "python",
   "pygments_lexer": "ipython3",
   "version": "3.6.10"
  }
 },
 "nbformat": 4,
 "nbformat_minor": 4
}
